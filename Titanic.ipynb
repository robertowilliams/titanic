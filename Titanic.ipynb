{
 "cells": [
  {
   "cell_type": "markdown",
   "metadata": {},
   "source": [
    "# TITANIC ACCIDENT INSIGHTS\n",
    "##### by Roberto Williams Candelaria Bernardes Batista"
   ]
  },
  {
   "cell_type": "markdown",
   "metadata": {},
   "source": [
    "### SUMMARY"
   ]
  },
  {
   "cell_type": "markdown",
   "metadata": {},
   "source": [
    "Titanic's disaster is in the world's memory, and specialy eternalized by homonymous movie launched in 1997. Much has being treated about the accident, but in this analysis I am bringing two perspectives: the worldwide impact involving 44 countries and the economic power over the morality practiced during the evacuation of passengers.\n",
    "In the Tableau History we can identify the following views:\n",
    "1. World map with countries of residence of victims.\n",
    "2. Histogram showing the countries ordered by quantity of victims.\n",
    "3. Histigram of suvivors and victims of accident dived by classes.\n",
    "4. Histogram of Children under 12 years old per class.\n",
    "5. Block diagram of victims per class.\n",
    "\n",
    "The project files can be reached in the following links:\n",
    "\n",
    "https://github.com/robertowilliams/titanic\n",
    "\n",
    "https://us-east-1.online.tableau.com/#/site/monidra/views/TITANIC_RESEARCH_V7/TitanicAccident?:iid=1\n",
    "\n",
    "https://us-east-1.online.tableau.com/#/site/monidra/projects/69026/workbooks"
   ]
  },
  {
   "cell_type": "markdown",
   "metadata": {},
   "source": [
    "### DESIGN"
   ]
  },
  {
   "cell_type": "markdown",
   "metadata": {},
   "source": [
    "Visualization types shosen were based on the purpose of the insight. \n",
    "\n",
    "Countries of Residence.\n",
    "\n",
    "The visualization related to countries of residence were focused on World Map and Histograms.\n",
    "\n",
    "Economic influence on suvivors rate\n",
    "\n",
    "The economic influence were demonstrated by histograms and block diagram, which allow to have a simple understanding of the serious matter on survivor rate based on class."
   ]
  },
  {
   "cell_type": "markdown",
   "metadata": {},
   "source": [
    "### COMMENTS"
   ]
  },
  {
   "cell_type": "markdown",
   "metadata": {},
   "source": [
    "People that view the first approach to this project indicated the color palete used in the world map. Basicaly the best solution to have a adequated color palete was to use the Tableau 20 palete with tone of blue.\n",
    "The histogram showed some times confused by the colors and information displayed. The solution, or intended solution, was to make the color as mininal possible to simplify the view."
   ]
  },
  {
   "cell_type": "markdown",
   "metadata": {},
   "source": [
    "### RESOURCES"
   ]
  },
  {
   "cell_type": "markdown",
   "metadata": {},
   "source": [
    "Was used several resources to execute this project. You can find below is listed the main ones:\n",
    "\n",
    "1. Udacity - Nanodegree Fundamentals of Data Science and Data Visualization with Tableau. http://www.udacity.com.\n",
    "2. Messar, Tim. Mastering Tableau 10 - Video. Packt.\n",
    "3. Sankhe-Savale, Shweta. Tableau Cookbook - Recipes for Data Visualization. Packt.\n",
    "4. Tableau Free Training Videos - https://www.tableau.com/learn/training.\n"
   ]
  },
  {
   "cell_type": "markdown",
   "metadata": {},
   "source": [
    "### DATA FILES"
   ]
  },
  {
   "cell_type": "markdown",
   "metadata": {},
   "source": [
    "The purpose of this project is identify how the accident impact in the countries and identify the economical influence in the occurence of pasenger survival, due to lack of safety structure in the vessel.\n",
    "\n",
    "To do so was necessary create a new dateset with complete passenger's dataset, correct information like age, official name and coutry of residence were consulted photocopies of original passenger's list, datasets and passenger's biography.\n",
    "\n",
    "Below is indicated each resource and the data collected or consulted.\n",
    "\n",
    "#### BASIC DATASET\n",
    "\n",
    "Was used to create this project the following Titanic Dataset as a base dataset extracted from the Github account of the book \"Efficient Amazon Machine Learning\", published by Packt.\n",
    "https://github.com/alexisperrier/packt-aml/blob/master/ch4/original_titanic.csv\n",
    "\n",
    "#### DATASET EXTENSION\n",
    "\n",
    "In order to populate with the most correct data values the following data sources were consulted:\n",
    "\n",
    "    1.UK, RMS Titanic, Outward Passenger List, 1912. \n",
    "        Was accessed the database and the original photocopies of passenger's list in order to acquire additional information.\n",
    "        This collection was accessed through Ancetry services, but provided in association with The National Archives. https://search.ancestry.com/search/db.aspx?dbid=2970. \n",
    "        Terms and Conditions: http://www.ancestry.com/cs/legal/termsandconditions#Usage.\n",
    "\n",
    "    2. Encyclopedia Titanica. Database with biograph of victims. https://www.encyclopedia-titanica.org\n",
    "    \n",
    "    3. Titanic - Titanic. Dataset with biograph of victims. http://www.titanic-titanic.com/\n",
    "\n",
    "In order to solve inconsistence in names used in passengers list was consulted the following websites:\n",
    "\n",
    "    3. Find a Grave. Database with biograph and grave pictures with names and surnames. https://www.findagrave.com.\n",
    "    \n",
    "    4. Wikipedia. Online encyclopedia. Used to understand the country changes over the years. For instance the change of political geograph after the World War I.  http://www.wikipedia.org.\n",
    "    \n",
    "    "
   ]
  },
  {
   "cell_type": "markdown",
   "metadata": {},
   "source": [
    "Contact: robertowilliams@gmail.com"
   ]
  }
 ],
 "metadata": {
  "kernelspec": {
   "display_name": "Python 2",
   "language": "python",
   "name": "python2"
  },
  "language_info": {
   "codemirror_mode": {
    "name": "ipython",
    "version": 2
   },
   "file_extension": ".py",
   "mimetype": "text/x-python",
   "name": "python",
   "nbconvert_exporter": "python",
   "pygments_lexer": "ipython2",
   "version": "2.7.14"
  }
 },
 "nbformat": 4,
 "nbformat_minor": 2
}
